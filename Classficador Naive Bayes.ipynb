{
 "cells": [
  {
   "cell_type": "code",
   "execution_count": null,
   "id": "388d11ff",
   "metadata": {},
   "outputs": [],
   "source": [
    "# Criando as características e se a criança deve brincar fora.\n",
    "#Weather e Temperature (temp) são as características. Play é se a\n",
    "#criança deve brincar, sendo 0 para não e 1 para sim."
   ]
  },
  {
   "cell_type": "code",
   "execution_count": 1,
   "id": "748d24eb",
   "metadata": {},
   "outputs": [],
   "source": [
    "weather=['Sol','Sol','Ensolarado','Nublado','Nublado','Nublado',\n",
    "'Ensolarado','Sol','Sol', 'Nublado', 'Sol', 'Ensolarado', 'Ensolarado',\n",
    "'Nublado']\n",
    "temp=['Quente','Quente','Quente','Amena','Gelado', \n",
    "'Gelado','Gelado','Amena','Gelado','Amena','Amena','Amena','Quente',\n",
    "'Amena']\n",
    "play=['Nao','Nao','Sim','Sim','Sim','Nao','Sim', 'Nao','Sim','Sim',\n",
    "'Sim','Sim','Sim','Nao']"
   ]
  },
  {
   "cell_type": "code",
   "execution_count": null,
   "id": "12fb6629",
   "metadata": {},
   "outputs": [],
   "source": [
    "# Importa biblioteca para pré-processamento dos dados\n"
   ]
  },
  {
   "cell_type": "code",
   "execution_count": 2,
   "id": "63058c37",
   "metadata": {},
   "outputs": [],
   "source": [
    "from sklearn import preprocessing"
   ]
  },
  {
   "cell_type": "code",
   "execution_count": null,
   "id": "e990883f",
   "metadata": {},
   "outputs": [],
   "source": [
    "#Criando o LabelEncoder (preprocessador)"
   ]
  },
  {
   "cell_type": "code",
   "execution_count": 3,
   "id": "08f86fe1",
   "metadata": {},
   "outputs": [],
   "source": [
    "le = preprocessing.LabelEncoder()"
   ]
  },
  {
   "cell_type": "code",
   "execution_count": null,
   "id": "38715874",
   "metadata": {},
   "outputs": [],
   "source": [
    "# Converte as strings em números"
   ]
  },
  {
   "cell_type": "code",
   "execution_count": 7,
   "id": "94ae09df",
   "metadata": {},
   "outputs": [],
   "source": [
    "weather_encoded=le.fit_transform(weather)"
   ]
  },
  {
   "cell_type": "code",
   "execution_count": 8,
   "id": "e2514b55",
   "metadata": {},
   "outputs": [
    {
     "name": "stdout",
     "output_type": "stream",
     "text": [
      "Weather:  ['Sol', 'Sol', 'Ensolarado', 'Nublado', 'Nublado', 'Nublado', 'Ensolarado', 'Sol', 'Sol', 'Nublado', 'Sol', 'Ensolarado', 'Ensolarado', 'Nublado']\n",
      "Weather:  [2 2 0 1 1 1 0 2 2 1 2 0 0 1]\n"
     ]
    }
   ],
   "source": [
    "print ('Weather: ', weather)\n",
    "print ('Weather: ', weather_encoded)"
   ]
  },
  {
   "cell_type": "code",
   "execution_count": null,
   "id": "d95867ed",
   "metadata": {},
   "outputs": [],
   "source": [
    "# Converte as strings em números."
   ]
  },
  {
   "cell_type": "code",
   "execution_count": 9,
   "id": "e59db97e",
   "metadata": {},
   "outputs": [],
   "source": [
    "temp_encoded=le.fit_transform(temp)\n",
    "label=le.fit_transform(play)"
   ]
  },
  {
   "cell_type": "code",
   "execution_count": 11,
   "id": "ab586ad0",
   "metadata": {},
   "outputs": [
    {
     "name": "stdout",
     "output_type": "stream",
     "text": [
      "Temp: ['Quente', 'Quente', 'Quente', 'Amena', 'Gelado', 'Gelado', 'Gelado', 'Amena', 'Gelado', 'Amena', 'Amena', 'Amena', 'Quente', 'Amena']\n",
      "Temp: [2 2 2 0 1 1 1 0 1 0 0 0 2 0]\n"
     ]
    }
   ],
   "source": [
    "print ('Temp:',temp)\n",
    "print ('Temp:',temp_encoded)"
   ]
  },
  {
   "cell_type": "code",
   "execution_count": null,
   "id": "0dcb3c1b",
   "metadata": {},
   "outputs": [],
   "source": [
    "# 0 = Nao , 1 = Sim"
   ]
  },
  {
   "cell_type": "code",
   "execution_count": 12,
   "id": "87a8e7f7",
   "metadata": {},
   "outputs": [
    {
     "name": "stdout",
     "output_type": "stream",
     "text": [
      "Play: [0 0 1 1 1 0 1 0 1 1 1 1 1 0]\n"
     ]
    }
   ],
   "source": [
    "print ('Play:',label)"
   ]
  },
  {
   "cell_type": "code",
   "execution_count": null,
   "id": "ac1f4e3d",
   "metadata": {},
   "outputs": [],
   "source": [
    "#Combinando as características em uma única variavel"
   ]
  },
  {
   "cell_type": "code",
   "execution_count": 13,
   "id": "482223ef",
   "metadata": {},
   "outputs": [],
   "source": [
    "features=zip(weather_encoded,temp_encoded)"
   ]
  },
  {
   "cell_type": "code",
   "execution_count": 16,
   "id": "363b202d",
   "metadata": {},
   "outputs": [],
   "source": [
    "#Importa o modelo de Naive Bayes"
   ]
  },
  {
   "cell_type": "code",
   "execution_count": 14,
   "id": "9c82ec49",
   "metadata": {},
   "outputs": [],
   "source": [
    "from sklearn.naive_bayes import GaussianNB"
   ]
  },
  {
   "cell_type": "code",
   "execution_count": null,
   "id": "05ab0f20",
   "metadata": {},
   "outputs": [],
   "source": [
    "#Cria o modelo"
   ]
  },
  {
   "cell_type": "code",
   "execution_count": 15,
   "id": "be177de2",
   "metadata": {},
   "outputs": [],
   "source": [
    "model = GaussianNB()"
   ]
  },
  {
   "cell_type": "code",
   "execution_count": null,
   "id": "171797b7",
   "metadata": {},
   "outputs": [],
   "source": [
    "#Transforma o array de 1D em 2D"
   ]
  },
  {
   "cell_type": "code",
   "execution_count": 17,
   "id": "be1e413c",
   "metadata": {},
   "outputs": [],
   "source": [
    "import numpy as np"
   ]
  },
  {
   "cell_type": "code",
   "execution_count": 18,
   "id": "bd043754",
   "metadata": {},
   "outputs": [],
   "source": [
    "features = np.array(list(features))"
   ]
  },
  {
   "cell_type": "code",
   "execution_count": 19,
   "id": "9caf320b",
   "metadata": {},
   "outputs": [
    {
     "name": "stdout",
     "output_type": "stream",
     "text": [
      "features:  [[2 2]\n",
      " [2 2]\n",
      " [0 2]\n",
      " [1 0]\n",
      " [1 1]\n",
      " [1 1]\n",
      " [0 1]\n",
      " [2 0]\n",
      " [2 1]\n",
      " [1 0]\n",
      " [2 0]\n",
      " [0 0]\n",
      " [0 2]\n",
      " [1 0]]\n",
      "labels:  [0 0 1 1 1 0 1 0 1 1 1 1 1 0]\n"
     ]
    }
   ],
   "source": [
    "print('features: ', features)\n",
    "print('labels: ', label)"
   ]
  },
  {
   "cell_type": "code",
   "execution_count": null,
   "id": "473d785d",
   "metadata": {},
   "outputs": [],
   "source": [
    "# Treina o modelo"
   ]
  },
  {
   "cell_type": "code",
   "execution_count": 20,
   "id": "8adce605",
   "metadata": {},
   "outputs": [
    {
     "data": {
      "text/plain": [
       "GaussianNB()"
      ]
     },
     "execution_count": 20,
     "metadata": {},
     "output_type": "execute_result"
    }
   ],
   "source": [
    "model.fit(features,label)"
   ]
  },
  {
   "cell_type": "code",
   "execution_count": null,
   "id": "638c4e1c",
   "metadata": {},
   "outputs": [],
   "source": [
    "#Realiza a predição de um novo dado"
   ]
  },
  {
   "cell_type": "code",
   "execution_count": 21,
   "id": "b457edda",
   "metadata": {},
   "outputs": [],
   "source": [
    "predicted = model.predict([[1,2]]) "
   ]
  },
  {
   "cell_type": "code",
   "execution_count": 22,
   "id": "4af0af3c",
   "metadata": {},
   "outputs": [
    {
     "name": "stdout",
     "output_type": "stream",
     "text": [
      "Predicted Value: [1]\n"
     ]
    }
   ],
   "source": [
    "print ('Predicted Value:', predicted)"
   ]
  },
  {
   "cell_type": "code",
   "execution_count": null,
   "id": "6974e803",
   "metadata": {},
   "outputs": [],
   "source": []
  }
 ],
 "metadata": {
  "kernelspec": {
   "display_name": "Python 3 (ipykernel)",
   "language": "python",
   "name": "python3"
  },
  "language_info": {
   "codemirror_mode": {
    "name": "ipython",
    "version": 3
   },
   "file_extension": ".py",
   "mimetype": "text/x-python",
   "name": "python",
   "nbconvert_exporter": "python",
   "pygments_lexer": "ipython3",
   "version": "3.9.12"
  }
 },
 "nbformat": 4,
 "nbformat_minor": 5
}
